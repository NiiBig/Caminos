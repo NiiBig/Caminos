{
 "cells": [
  {
   "cell_type": "code",
   "execution_count": 7,
   "metadata": {
    "collapsed": false
   },
   "outputs": [],
   "source": [
    "import numpy"
   ]
  },
  {
   "cell_type": "code",
   "execution_count": 24,
   "metadata": {
    "collapsed": false
   },
   "outputs": [],
   "source": [
    "occupants = numpy.loadtxt(fname='data/statistic_id183648_average-size-of-households-in-the-us-1960-2016.csv',\n",
    "              delimiter=',', skiprows=1)"
   ]
  },
  {
   "cell_type": "code",
   "execution_count": 18,
   "metadata": {
    "collapsed": false
   },
   "outputs": [
    {
     "name": "stdout",
     "output_type": "stream",
     "text": [
      "[[ 2016.       2.53]\n",
      " [ 2015.       2.54]\n",
      " [ 2014.       2.54]\n",
      " [ 2013.       2.54]\n",
      " [ 2012.       2.55]\n",
      " [ 2011.       2.58]\n",
      " [ 2010.       2.59]\n",
      " [ 2009.       2.57]\n",
      " [ 2008.       2.56]\n",
      " [ 2007.       2.56]\n",
      " [ 2006.       2.57]\n",
      " [ 2005.       2.57]\n",
      " [ 2004.       2.57]\n",
      " [ 2003.       2.57]\n",
      " [ 2002.       2.58]\n",
      " [ 2001.       2.58]\n",
      " [ 2000.       2.62]\n",
      " [ 1999.       2.61]\n",
      " [ 1998.       2.62]\n",
      " [ 1997.       2.64]\n",
      " [ 1996.       2.65]\n",
      " [ 1995.       2.65]\n",
      " [ 1994.       2.67]\n",
      " [ 1993.       2.63]\n",
      " [ 1992.       2.62]\n",
      " [ 1991.       2.63]\n",
      " [ 1990.       2.63]\n",
      " [ 1989.       2.62]\n",
      " [ 1988.       2.64]\n",
      " [ 1987.       2.66]\n",
      " [ 1986.       2.67]\n",
      " [ 1985.       2.69]\n",
      " [ 1984.       2.71]\n",
      " [ 1983.       2.73]\n",
      " [ 1982.       2.72]\n",
      " [ 1981.       2.73]\n",
      " [ 1980.       2.76]\n",
      " [ 1979.       2.78]\n",
      " [ 1978.       2.81]\n",
      " [ 1977.       2.86]\n",
      " [ 1976.       2.89]\n",
      " [ 1975.       2.94]\n",
      " [ 1974.       2.97]\n",
      " [ 1973.       3.01]\n",
      " [ 1972.       3.06]\n",
      " [ 1971.       3.11]\n",
      " [ 1970.       3.14]\n",
      " [ 1960.       3.33]]\n"
     ]
    }
   ],
   "source": [
    "print(occupants)\n"
   ]
  },
  {
   "cell_type": "code",
   "execution_count": 27,
   "metadata": {
    "collapsed": false
   },
   "outputs": [],
   "source": [
    "from matplotlib import pyplot\n",
    "%matplotlib inline"
   ]
  },
  {
   "cell_type": "code",
   "execution_count": 19,
   "metadata": {
    "collapsed": false
   },
   "outputs": [
    {
     "data": {
      "text/plain": [
       "[<matplotlib.lines.Line2D at 0x10afc0fd0>]"
      ]
     },
     "execution_count": 19,
     "metadata": {},
     "output_type": "execute_result"
    },
    {
     "data": {
      "image/png": "[encoded data removed]",
      "text/plain": [
       "<matplotlib.figure.Figure at 0x10ae56668>"
      ]
     },
     "metadata": {},
     "output_type": "display_data"
    }
   ],
   "source": [
    "pyplot.plot(occupants[:,1])"
   ]
  },
  {
   "cell_type": "code",
   "execution_count": 21,
   "metadata": {
    "collapsed": false
   },
   "outputs": [
    {
     "data": {
      "text/plain": [
       "array([[ 1960.  ,     3.33],\n",
       "       [ 1970.  ,     3.14],\n",
       "       [ 1971.  ,     3.11],\n",
       "       [ 1972.  ,     3.06],\n",
       "       [ 1973.  ,     3.01],\n",
       "       [ 1974.  ,     2.97],\n",
       "       [ 1975.  ,     2.94],\n",
       "       [ 1976.  ,     2.89],\n",
       "       [ 1977.  ,     2.86],\n",
       "       [ 1978.  ,     2.81],\n",
       "       [ 1979.  ,     2.78],\n",
       "       [ 1980.  ,     2.76],\n",
       "       [ 1981.  ,     2.73],\n",
       "       [ 1982.  ,     2.72],\n",
       "       [ 1983.  ,     2.73],\n",
       "       [ 1984.  ,     2.71],\n",
       "       [ 1985.  ,     2.69],\n",
       "       [ 1986.  ,     2.67],\n",
       "       [ 1987.  ,     2.66],\n",
       "       [ 1988.  ,     2.64],\n",
       "       [ 1989.  ,     2.62],\n",
       "       [ 1990.  ,     2.63],\n",
       "       [ 1991.  ,     2.63],\n",
       "       [ 1992.  ,     2.62],\n",
       "       [ 1993.  ,     2.63],\n",
       "       [ 1994.  ,     2.67],\n",
       "       [ 1995.  ,     2.65],\n",
       "       [ 1996.  ,     2.65],\n",
       "       [ 1997.  ,     2.64],\n",
       "       [ 1998.  ,     2.62],\n",
       "       [ 1999.  ,     2.61],\n",
       "       [ 2000.  ,     2.62],\n",
       "       [ 2001.  ,     2.58],\n",
       "       [ 2002.  ,     2.58],\n",
       "       [ 2003.  ,     2.57],\n",
       "       [ 2004.  ,     2.57],\n",
       "       [ 2005.  ,     2.57],\n",
       "       [ 2006.  ,     2.57],\n",
       "       [ 2007.  ,     2.56],\n",
       "       [ 2008.  ,     2.56],\n",
       "       [ 2009.  ,     2.57],\n",
       "       [ 2010.  ,     2.59],\n",
       "       [ 2011.  ,     2.58],\n",
       "       [ 2012.  ,     2.55],\n",
       "       [ 2013.  ,     2.54],\n",
       "       [ 2014.  ,     2.54],\n",
       "       [ 2015.  ,     2.54],\n",
       "       [ 2016.  ,     2.53]])"
      ]
     },
     "execution_count": 21,
     "metadata": {},
     "output_type": "execute_result"
    }
   ],
   "source": [
    "numpy.flipud(occupants)"
   ]
  },
  {
   "cell_type": "code",
   "execution_count": 22,
   "metadata": {
    "collapsed": false
   },
   "outputs": [
    {
     "data": {
      "text/plain": [
       "[<matplotlib.lines.Line2D at 0x110424908>]"
      ]
     },
     "execution_count": 22,
     "metadata": {},
     "output_type": "execute_result"
    },
    {
     "data": {
      "image/png": "[encoded data removed]",
      "text/plain": [
       "<matplotlib.figure.Figure at 0x10ae7bf60>"
      ]
     },
     "metadata": {},
     "output_type": "display_data"
    }
   ],
   "source": [
    "pyplot.plot(occupants[:,1])"
   ]
  },
  {
   "cell_type": "code",
   "execution_count": 26,
   "metadata": {
    "collapsed": false
   },
   "outputs": [
    {
     "data": {
      "text/plain": [
       "[<matplotlib.lines.Line2D at 0x1107a1f98>]"
      ]
     },
     "execution_count": 26,
     "metadata": {},
     "output_type": "execute_result"
    },
    {
     "data": {
      "image/png": "[encoded data removed]",
      "text/plain": [
       "<matplotlib.figure.Figure at 0x10c81efd0>"
      ]
     },
     "metadata": {},
     "output_type": "display_data"
    }
   ],
   "source": [
    "pyplot.plot(occupants[:,0],occupants[:,1])"
   ]
  },
  {
   "cell_type": "code",
   "execution_count": null,
   "metadata": {
    "collapsed": true
   },
   "outputs": [],
   "source": []
  }
 ],
 "metadata": {
  "kernelspec": {
   "display_name": "Python 3",
   "language": "python",
   "name": "python3"
  },
  "language_info": {
   "codemirror_mode": {
    "name": "ipython",
    "version": 3
   },
   "file_extension": ".py",
   "mimetype": "text/x-python",
   "name": "python",
   "nbconvert_exporter": "python",
   "pygments_lexer": "ipython3",
   "version": "3.5.2"
  },
  "widgets": {
   "state": {},
   "version": "1.1.2"
  }
 },
 "nbformat": 4,
 "nbformat_minor": 0
}
